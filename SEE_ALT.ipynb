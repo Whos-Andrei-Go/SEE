{
 "cells": [
  {
   "cell_type": "markdown",
   "metadata": {},
   "source": [
    "# Sessa Empirical Estimator"
   ]
  },
  {
   "cell_type": "markdown",
   "metadata": {},
   "source": [
    "## Setup"
   ]
  },
  {
   "cell_type": "markdown",
   "metadata": {},
   "source": [
    "### Import Libraries and Set Paths"
   ]
  },
  {
   "cell_type": "code",
   "execution_count": 326,
   "metadata": {},
   "outputs": [],
   "source": [
    "import pandas as pd\n",
    "import numpy as np\n",
    "import matplotlib.pyplot as plt\n",
    "import seaborn as sns\n",
    "from scipy.stats import gaussian_kde\n",
    "from sklearn.preprocessing import StandardScaler\n",
    "from sklearn.cluster import KMeans\n",
    "from sklearn.metrics import silhouette_score\n",
    "\n",
    "# DBScan Libraries\n",
    "from sklearn.cluster import DBSCAN\n",
    "from sklearn.neighbors import NearestNeighbors\n",
    "\n",
    "CSV_PATH = './csv-files/'"
   ]
  },
  {
   "cell_type": "markdown",
   "metadata": {},
   "source": [
    "### Setup sample data"
   ]
  },
  {
   "cell_type": "code",
   "execution_count": 327,
   "metadata": {},
   "outputs": [
    {
     "name": "stdout",
     "output_type": "stream",
     "text": [
      "CSV file loaded successfully!\n",
      "   pnr       eksd  perday   ATC  dur_original\n",
      "0    1 2033-04-26       4  medA            50\n",
      "1    1 2033-07-04       4  medB            30\n",
      "2    1 2033-08-03       4  medB            30\n",
      "3    1 2033-08-17       4  medB            30\n",
      "4    1 2033-10-13       4  medB            30\n"
     ]
    }
   ],
   "source": [
    "file_path = CSV_PATH + \"med_events.csv\"\n",
    "\n",
    "# Try to read the CSV file into a DataFrame\n",
    "try:\n",
    "    med_events = pd.read_csv(file_path)\n",
    "    print(\"CSV file loaded successfully!\")\n",
    "    \n",
    "    # Convert date column to datetime (assuming 'DATE' is the column name in your CSV)\n",
    "    med_events[\"DATE\"] = pd.to_datetime(med_events[\"DATE\"])\n",
    "\n",
    "    # Change column names\n",
    "    med_events.columns = [\"pnr\", \"eksd\", \"perday\", \"ATC\", \"dur_original\"]\n",
    "\n",
    "    # Display the first few rows\n",
    "    print(med_events.head())\n",
    "\n",
    "except FileNotFoundError:\n",
    "    print(f\"Error: File not found at {file_path}. Ensure the file exists.\")\n",
    "\n"
   ]
  },
  {
   "cell_type": "markdown",
   "metadata": {},
   "source": [
    "## Callable Functions"
   ]
  },
  {
   "cell_type": "markdown",
   "metadata": {},
   "source": [
    "### SEE Using K-Means"
   ]
  },
  {
   "cell_type": "code",
   "execution_count": 328,
   "metadata": {},
   "outputs": [],
   "source": [
    "def see(arg1):\n",
    "    # Filter dataset for the selected medication\n",
    "    subset = med_events[med_events[\"ATC\"] == arg1].copy()\n",
    "    \n",
    "    # Sort and create a previous prescription date column\n",
    "    subset = subset.sort_values([\"pnr\", \"eksd\"]).copy()\n",
    "    subset[\"prev_eksd\"] = subset.groupby(\"pnr\")[\"eksd\"].shift(1)\n",
    "    \n",
    "    # Remove rows where prev_eksd is NaN\n",
    "    subset = subset.dropna().copy()\n",
    "    \n",
    "    # Select one random record per patient\n",
    "    subset = subset.groupby(\"pnr\").sample(n=1, random_state=1234).copy()\n",
    "\n",
    "    # Compute event interval (time difference)\n",
    "    subset[\"event_interval\"] = (subset[\"eksd\"] - subset[\"prev_eksd\"]).dt.days\n",
    "    \n",
    "    # Compute ECDF\n",
    "    sorted_intervals = np.sort(subset[\"event_interval\"])\n",
    "    ecdf_y = np.arange(1, len(sorted_intervals) + 1) / len(sorted_intervals)\n",
    "\n",
    "    # Keep only the lower 80% of ECDF\n",
    "    max_val = sorted_intervals[int(0.8 * len(sorted_intervals))]\n",
    "    subset_filtered = subset[subset[\"event_interval\"] <= max_val].copy()\n",
    "\n",
    "    # Density plot of log-transformed event intervals\n",
    "    kde = gaussian_kde(np.log(subset_filtered[\"event_interval\"]))\n",
    "    x_vals = np.linspace(min(np.log(subset_filtered[\"event_interval\"])), \n",
    "                         max(np.log(subset_filtered[\"event_interval\"])), 100)\n",
    "    y_vals = kde(x_vals)\n",
    "\n",
    "    # Silhouette Analysis\n",
    "    scaler = StandardScaler()\n",
    "    scaled_data = scaler.fit_transform(x_vals.reshape(-1, 1))\n",
    "\n",
    "    best_clusters = []\n",
    "    best_score = -1\n",
    "    best_k = 2\n",
    "    \n",
    "    for k in range(2, 10):\n",
    "        kmeans = KMeans(n_clusters=k, random_state=1234, n_init=10)\n",
    "        labels = kmeans.fit_predict(scaled_data)\n",
    "        score = silhouette_score(scaled_data, labels)\n",
    "        best_clusters.append((k, score))\n",
    "        if score > best_score:\n",
    "            best_score = score\n",
    "            best_k = k\n",
    "\n",
    "    # K-means Clustering\n",
    "    subset_filtered = subset_filtered.copy()  # Ensure a fresh copy before modification\n",
    "    subset_filtered.loc[:, \"cluster\"] = KMeans(n_clusters=best_k, random_state=1234, n_init=10).fit_predict(subset_filtered[[\"event_interval\"]])\n",
    "\n",
    "    # Cluster summary\n",
    "    cluster_summary = subset_filtered.groupby(\"cluster\")[\"event_interval\"].agg([\"min\", \"max\", \"median\"]).reset_index()\n",
    "    \n",
    "    # Merge clusters back to main dataset\n",
    "    results = subset_filtered.merge(cluster_summary, on=\"cluster\", how=\"left\")\n",
    "    results = results[(results[\"event_interval\"] >= results[\"min\"]) & (results[\"event_interval\"] <= results[\"max\"])]\n",
    "\n",
    "    # Assign cluster to all data\n",
    "    final_result = med_events[med_events[\"ATC\"] == arg1].copy()\n",
    "    final_result = final_result.merge(results[[\"pnr\", \"median\", \"cluster\"]], on=\"pnr\", how=\"left\")\n",
    "\n",
    "    # Fill missing cluster values safely\n",
    "    final_result[\"cluster\"] = final_result[\"cluster\"].fillna(0)\n",
    "    final_result[\"median\"] = final_result[\"median\"].fillna(results[\"median\"].median())\n",
    "\n",
    "    return final_result\n"
   ]
  },
  {
   "cell_type": "markdown",
   "metadata": {},
   "source": [
    "### SEE Using DBSCAN"
   ]
  },
  {
   "cell_type": "code",
   "execution_count": 329,
   "metadata": {},
   "outputs": [],
   "source": [
    "def see_dbscan(arg1):\n",
    "    # Filter dataset for the selected medication\n",
    "    subset = med_events[med_events[\"ATC\"] == arg1].copy()\n",
    "    \n",
    "    # Sort and create a previous prescription date column\n",
    "    subset = subset.sort_values([\"pnr\", \"eksd\"]).copy()\n",
    "    subset[\"prev_eksd\"] = subset.groupby(\"pnr\")[\"eksd\"].shift(1)\n",
    "    \n",
    "    # Remove rows where prev_eksd is NaN\n",
    "    subset = subset.dropna().copy()\n",
    "    \n",
    "    # Select one random record per patient\n",
    "    subset = subset.groupby(\"pnr\").sample(n=1, random_state=1234).copy()\n",
    "\n",
    "    # Compute event interval (time difference)\n",
    "    subset[\"event_interval\"] = (subset[\"eksd\"] - subset[\"prev_eksd\"]).dt.days\n",
    "    \n",
    "    # Compute ECDF\n",
    "    sorted_intervals = np.sort(subset[\"event_interval\"])\n",
    "    ecdf_y = np.arange(1, len(sorted_intervals) + 1) / len(sorted_intervals)\n",
    "\n",
    "    # Keep only the lower 80% of ECDF\n",
    "    max_val = sorted_intervals[int(0.8 * len(sorted_intervals))]\n",
    "    subset_filtered = subset[subset[\"event_interval\"] <= max_val].copy()\n",
    "\n",
    "    # Density plot of log-transformed event intervals\n",
    "    kde = gaussian_kde(np.log(subset_filtered[\"event_interval\"]))\n",
    "    x_vals = np.linspace(min(np.log(subset_filtered[\"event_interval\"])), \n",
    "                         max(np.log(subset_filtered[\"event_interval\"])), 100)\n",
    "    y_vals = kde(x_vals)\n",
    "\n",
    "    # Normalize the data for clustering\n",
    "    scaler = StandardScaler()\n",
    "    scaled_data = scaler.fit_transform(subset_filtered[[\"event_interval\"]])\n",
    "\n",
    "    # Determine the optimal epsilon (eps) using k-distance method\n",
    "    neigh = NearestNeighbors(n_neighbors=5)\n",
    "    neigh.fit(scaled_data)\n",
    "    distances, _ = neigh.kneighbors(scaled_data)\n",
    "    k_distances = np.sort(distances[:, -1])  # Take the 5th neighbor distance\n",
    "\n",
    "    # Choose eps as the \"knee\" point (approximation: 90th percentile of distances)\n",
    "    eps_value = np.percentile(k_distances, 90)\n",
    "\n",
    "    # Apply DBSCAN clustering\n",
    "    dbscan = DBSCAN(eps=eps_value, min_samples=5)\n",
    "    subset_filtered.loc[:, \"cluster\"] = dbscan.fit_predict(scaled_data)\n",
    "\n",
    "    # Handle noise points (DBSCAN assigns -1 to noise)\n",
    "    subset_filtered.loc[subset_filtered[\"cluster\"] == -1, \"cluster\"] = np.nan\n",
    "\n",
    "    # Cluster summary\n",
    "    cluster_summary = subset_filtered.groupby(\"cluster\")[\"event_interval\"].agg([\"min\", \"max\", \"median\"]).reset_index()\n",
    "\n",
    "    # Merge clusters back to main dataset\n",
    "    results = subset_filtered.merge(cluster_summary, on=\"cluster\", how=\"left\")\n",
    "    results = results[(results[\"event_interval\"] >= results[\"min\"]) & (results[\"event_interval\"] <= results[\"max\"])]\n",
    "\n",
    "    # Assign cluster to all data\n",
    "    final_result = med_events[med_events[\"ATC\"] == arg1].copy()\n",
    "    final_result = final_result.merge(results[[\"pnr\", \"median\", \"cluster\"]], on=\"pnr\", how=\"left\")\n",
    "\n",
    "    # Fill missing cluster values safely\n",
    "    final_result[\"cluster\"] = final_result[\"cluster\"].fillna(0)\n",
    "    final_result[\"median\"] = final_result[\"median\"].fillna(results[\"median\"].median())\n",
    "\n",
    "    return final_result\n"
   ]
  },
  {
   "cell_type": "markdown",
   "metadata": {},
   "source": [
    "### SEE Assumption"
   ]
  },
  {
   "cell_type": "code",
   "execution_count": 330,
   "metadata": {},
   "outputs": [],
   "source": [
    "def see_assumption(data):\n",
    "    data = data.copy()\n",
    "    \n",
    "    # Sort and create previous prescription date column\n",
    "    data.sort_values([\"pnr\", \"eksd\"], inplace=True)\n",
    "    data[\"prev_eksd\"] = data.groupby(\"pnr\")[\"eksd\"].shift(1)\n",
    "    \n",
    "    # Remove rows where prev_eksd is NaN\n",
    "    data = data.dropna()\n",
    "    \n",
    "    # Compute duration between prescriptions\n",
    "    data[\"duration\"] = (data[\"eksd\"] - data[\"prev_eksd\"]).dt.days\n",
    "    \n",
    "    # Assign sequence number per patient\n",
    "    data[\"p_number\"] = data.groupby(\"pnr\").cumcount() + 1\n",
    "    \n",
    "    # Filter only patients with at least 2 prescriptions\n",
    "    data = data[data[\"p_number\"] >= 2]\n",
    "    \n",
    "    # Boxplot\n",
    "    plt.figure(figsize=(10, 6))\n",
    "    sns.boxplot(x=data[\"p_number\"], y=data[\"duration\"])\n",
    "    plt.title(\"Duration Between Prescriptions\")\n",
    "    plt.xlabel(\"Prescription Number\")\n",
    "    plt.ylabel(\"Duration (days)\")\n",
    "    \n",
    "    # Compute median of medians per patient\n",
    "    medians_of_medians = data.groupby(\"pnr\")[\"duration\"].median()\n",
    "    \n",
    "    # Overlay median lines\n",
    "    plt.axhline(medians_of_medians.median(), color=\"red\", linestyle=\"dashed\")\n",
    "    plt.show()"
   ]
  },
  {
   "cell_type": "markdown",
   "metadata": {},
   "source": [
    "## Execution"
   ]
  },
  {
   "cell_type": "markdown",
   "metadata": {},
   "source": [
    "### Using K-Means"
   ]
  },
  {
   "cell_type": "code",
   "execution_count": 331,
   "metadata": {},
   "outputs": [
    {
     "data": {
      "text/html": [
       "<div>\n",
       "<style scoped>\n",
       "    .dataframe tbody tr th:only-of-type {\n",
       "        vertical-align: middle;\n",
       "    }\n",
       "\n",
       "    .dataframe tbody tr th {\n",
       "        vertical-align: top;\n",
       "    }\n",
       "\n",
       "    .dataframe thead th {\n",
       "        text-align: right;\n",
       "    }\n",
       "</style>\n",
       "<table border=\"1\" class=\"dataframe\">\n",
       "  <thead>\n",
       "    <tr style=\"text-align: right;\">\n",
       "      <th></th>\n",
       "      <th>pnr</th>\n",
       "      <th>eksd</th>\n",
       "      <th>perday</th>\n",
       "      <th>ATC</th>\n",
       "      <th>dur_original</th>\n",
       "      <th>median</th>\n",
       "      <th>cluster</th>\n",
       "    </tr>\n",
       "  </thead>\n",
       "  <tbody>\n",
       "    <tr>\n",
       "      <th>0</th>\n",
       "      <td>1</td>\n",
       "      <td>2033-04-26</td>\n",
       "      <td>4</td>\n",
       "      <td>medA</td>\n",
       "      <td>50</td>\n",
       "      <td>44.0</td>\n",
       "      <td>0.0</td>\n",
       "    </tr>\n",
       "    <tr>\n",
       "      <th>1</th>\n",
       "      <td>2</td>\n",
       "      <td>2036-01-20</td>\n",
       "      <td>4</td>\n",
       "      <td>medA</td>\n",
       "      <td>50</td>\n",
       "      <td>44.0</td>\n",
       "      <td>1.0</td>\n",
       "    </tr>\n",
       "    <tr>\n",
       "      <th>2</th>\n",
       "      <td>2</td>\n",
       "      <td>2036-03-10</td>\n",
       "      <td>4</td>\n",
       "      <td>medA</td>\n",
       "      <td>50</td>\n",
       "      <td>44.0</td>\n",
       "      <td>1.0</td>\n",
       "    </tr>\n",
       "    <tr>\n",
       "      <th>3</th>\n",
       "      <td>2</td>\n",
       "      <td>2036-08-01</td>\n",
       "      <td>4</td>\n",
       "      <td>medA</td>\n",
       "      <td>50</td>\n",
       "      <td>44.0</td>\n",
       "      <td>1.0</td>\n",
       "    </tr>\n",
       "    <tr>\n",
       "      <th>4</th>\n",
       "      <td>3</td>\n",
       "      <td>2042-04-13</td>\n",
       "      <td>4</td>\n",
       "      <td>medA</td>\n",
       "      <td>50</td>\n",
       "      <td>44.0</td>\n",
       "      <td>0.0</td>\n",
       "    </tr>\n",
       "    <tr>\n",
       "      <th>...</th>\n",
       "      <td>...</td>\n",
       "      <td>...</td>\n",
       "      <td>...</td>\n",
       "      <td>...</td>\n",
       "      <td>...</td>\n",
       "      <td>...</td>\n",
       "      <td>...</td>\n",
       "    </tr>\n",
       "    <tr>\n",
       "      <th>544</th>\n",
       "      <td>99</td>\n",
       "      <td>2031-11-08</td>\n",
       "      <td>4</td>\n",
       "      <td>medA</td>\n",
       "      <td>50</td>\n",
       "      <td>135.0</td>\n",
       "      <td>0.0</td>\n",
       "    </tr>\n",
       "    <tr>\n",
       "      <th>545</th>\n",
       "      <td>99</td>\n",
       "      <td>2032-06-16</td>\n",
       "      <td>4</td>\n",
       "      <td>medA</td>\n",
       "      <td>50</td>\n",
       "      <td>135.0</td>\n",
       "      <td>0.0</td>\n",
       "    </tr>\n",
       "    <tr>\n",
       "      <th>546</th>\n",
       "      <td>99</td>\n",
       "      <td>2032-09-18</td>\n",
       "      <td>4</td>\n",
       "      <td>medA</td>\n",
       "      <td>50</td>\n",
       "      <td>135.0</td>\n",
       "      <td>0.0</td>\n",
       "    </tr>\n",
       "    <tr>\n",
       "      <th>547</th>\n",
       "      <td>100</td>\n",
       "      <td>2032-08-05</td>\n",
       "      <td>2</td>\n",
       "      <td>medA</td>\n",
       "      <td>150</td>\n",
       "      <td>135.0</td>\n",
       "      <td>0.0</td>\n",
       "    </tr>\n",
       "    <tr>\n",
       "      <th>548</th>\n",
       "      <td>100</td>\n",
       "      <td>2033-01-09</td>\n",
       "      <td>2</td>\n",
       "      <td>medA</td>\n",
       "      <td>150</td>\n",
       "      <td>135.0</td>\n",
       "      <td>0.0</td>\n",
       "    </tr>\n",
       "  </tbody>\n",
       "</table>\n",
       "<p>549 rows × 7 columns</p>\n",
       "</div>"
      ],
      "text/plain": [
       "     pnr       eksd  perday   ATC  dur_original  median  cluster\n",
       "0      1 2033-04-26       4  medA            50    44.0      0.0\n",
       "1      2 2036-01-20       4  medA            50    44.0      1.0\n",
       "2      2 2036-03-10       4  medA            50    44.0      1.0\n",
       "3      2 2036-08-01       4  medA            50    44.0      1.0\n",
       "4      3 2042-04-13       4  medA            50    44.0      0.0\n",
       "..   ...        ...     ...   ...           ...     ...      ...\n",
       "544   99 2031-11-08       4  medA            50   135.0      0.0\n",
       "545   99 2032-06-16       4  medA            50   135.0      0.0\n",
       "546   99 2032-09-18       4  medA            50   135.0      0.0\n",
       "547  100 2032-08-05       2  medA           150   135.0      0.0\n",
       "548  100 2033-01-09       2  medA           150   135.0      0.0\n",
       "\n",
       "[549 rows x 7 columns]"
      ]
     },
     "execution_count": 331,
     "metadata": {},
     "output_type": "execute_result"
    }
   ],
   "source": [
    "med_a = see(\"medA\")\n",
    "med_a"
   ]
  },
  {
   "cell_type": "code",
   "execution_count": 332,
   "metadata": {},
   "outputs": [
    {
     "data": {
      "image/png": "[encoded data removed]",
      "text/plain": [
       "<Figure size 1000x600 with 1 Axes>"
      ]
     },
     "metadata": {},
     "output_type": "display_data"
    }
   ],
   "source": [
    "see_assumption(med_a)"
   ]
  },
  {
   "cell_type": "markdown",
   "metadata": {},
   "source": [
    "### Using DBScan"
   ]
  },
  {
   "cell_type": "code",
   "execution_count": 333,
   "metadata": {},
   "outputs": [
    {
     "name": "stderr",
     "output_type": "stream",
     "text": [
      "c:\\Users\\andre\\AppData\\Local\\Programs\\Python\\Python310\\lib\\site-packages\\pandas\\core\\arraylike.py:399: RuntimeWarning: divide by zero encountered in log\n",
      "  result = getattr(ufunc, method)(*inputs, **kwargs)\n",
      "c:\\Users\\andre\\AppData\\Local\\Programs\\Python\\Python310\\lib\\site-packages\\numpy\\lib\\function_base.py:2742: RuntimeWarning: invalid value encountered in subtract\n",
      "  X -= avg[:, None]\n"
     ]
    },
    {
     "ename": "ValueError",
     "evalue": "array must not contain infs or NaNs",
     "output_type": "error",
     "traceback": [
      "\u001b[1;31m---------------------------------------------------------------------------\u001b[0m",
      "\u001b[1;31mValueError\u001b[0m                                Traceback (most recent call last)",
      "Cell \u001b[1;32mIn[333], line 1\u001b[0m\n\u001b[1;32m----> 1\u001b[0m med_b \u001b[38;5;241m=\u001b[39m \u001b[43msee_dbscan\u001b[49m\u001b[43m(\u001b[49m\u001b[38;5;124;43m\"\u001b[39;49m\u001b[38;5;124;43mmedB\u001b[39;49m\u001b[38;5;124;43m\"\u001b[39;49m\u001b[43m)\u001b[49m\n\u001b[0;32m      2\u001b[0m med_b\n",
      "Cell \u001b[1;32mIn[329], line 27\u001b[0m, in \u001b[0;36msee_dbscan\u001b[1;34m(arg1)\u001b[0m\n\u001b[0;32m     24\u001b[0m subset_filtered \u001b[38;5;241m=\u001b[39m subset[subset[\u001b[38;5;124m\"\u001b[39m\u001b[38;5;124mevent_interval\u001b[39m\u001b[38;5;124m\"\u001b[39m] \u001b[38;5;241m<\u001b[39m\u001b[38;5;241m=\u001b[39m max_val]\u001b[38;5;241m.\u001b[39mcopy()\n\u001b[0;32m     26\u001b[0m \u001b[38;5;66;03m# Density plot of log-transformed event intervals\u001b[39;00m\n\u001b[1;32m---> 27\u001b[0m kde \u001b[38;5;241m=\u001b[39m \u001b[43mgaussian_kde\u001b[49m\u001b[43m(\u001b[49m\u001b[43mnp\u001b[49m\u001b[38;5;241;43m.\u001b[39;49m\u001b[43mlog\u001b[49m\u001b[43m(\u001b[49m\u001b[43msubset_filtered\u001b[49m\u001b[43m[\u001b[49m\u001b[38;5;124;43m\"\u001b[39;49m\u001b[38;5;124;43mevent_interval\u001b[39;49m\u001b[38;5;124;43m\"\u001b[39;49m\u001b[43m]\u001b[49m\u001b[43m)\u001b[49m\u001b[43m)\u001b[49m\n\u001b[0;32m     28\u001b[0m x_vals \u001b[38;5;241m=\u001b[39m np\u001b[38;5;241m.\u001b[39mlinspace(\u001b[38;5;28mmin\u001b[39m(np\u001b[38;5;241m.\u001b[39mlog(subset_filtered[\u001b[38;5;124m\"\u001b[39m\u001b[38;5;124mevent_interval\u001b[39m\u001b[38;5;124m\"\u001b[39m])), \n\u001b[0;32m     29\u001b[0m                      \u001b[38;5;28mmax\u001b[39m(np\u001b[38;5;241m.\u001b[39mlog(subset_filtered[\u001b[38;5;124m\"\u001b[39m\u001b[38;5;124mevent_interval\u001b[39m\u001b[38;5;124m\"\u001b[39m])), \u001b[38;5;241m100\u001b[39m)\n\u001b[0;32m     30\u001b[0m y_vals \u001b[38;5;241m=\u001b[39m kde(x_vals)\n",
      "File \u001b[1;32mc:\\Users\\andre\\AppData\\Local\\Programs\\Python\\Python310\\lib\\site-packages\\scipy\\stats\\_kde.py:226\u001b[0m, in \u001b[0;36mgaussian_kde.__init__\u001b[1;34m(self, dataset, bw_method, weights)\u001b[0m\n\u001b[0;32m    223\u001b[0m     \u001b[38;5;28;01mraise\u001b[39;00m \u001b[38;5;167;01mValueError\u001b[39;00m(msg)\n\u001b[0;32m    225\u001b[0m \u001b[38;5;28;01mtry\u001b[39;00m:\n\u001b[1;32m--> 226\u001b[0m     \u001b[38;5;28;43mself\u001b[39;49m\u001b[38;5;241;43m.\u001b[39;49m\u001b[43mset_bandwidth\u001b[49m\u001b[43m(\u001b[49m\u001b[43mbw_method\u001b[49m\u001b[38;5;241;43m=\u001b[39;49m\u001b[43mbw_method\u001b[49m\u001b[43m)\u001b[49m\n\u001b[0;32m    227\u001b[0m \u001b[38;5;28;01mexcept\u001b[39;00m linalg\u001b[38;5;241m.\u001b[39mLinAlgError \u001b[38;5;28;01mas\u001b[39;00m e:\n\u001b[0;32m    228\u001b[0m     msg \u001b[38;5;241m=\u001b[39m (\u001b[38;5;124m\"\u001b[39m\u001b[38;5;124mThe data appears to lie in a lower-dimensional subspace \u001b[39m\u001b[38;5;124m\"\u001b[39m\n\u001b[0;32m    229\u001b[0m            \u001b[38;5;124m\"\u001b[39m\u001b[38;5;124mof the space in which it is expressed. This has resulted \u001b[39m\u001b[38;5;124m\"\u001b[39m\n\u001b[0;32m    230\u001b[0m            \u001b[38;5;124m\"\u001b[39m\u001b[38;5;124min a singular data covariance matrix, which cannot be \u001b[39m\u001b[38;5;124m\"\u001b[39m\n\u001b[1;32m   (...)\u001b[0m\n\u001b[0;32m    233\u001b[0m            \u001b[38;5;124m\"\u001b[39m\u001b[38;5;124manalysis / dimensionality reduction and using \u001b[39m\u001b[38;5;124m\"\u001b[39m\n\u001b[0;32m    234\u001b[0m            \u001b[38;5;124m\"\u001b[39m\u001b[38;5;124m`gaussian_kde` with the transformed data.\u001b[39m\u001b[38;5;124m\"\u001b[39m)\n",
      "File \u001b[1;32mc:\\Users\\andre\\AppData\\Local\\Programs\\Python\\Python310\\lib\\site-packages\\scipy\\stats\\_kde.py:574\u001b[0m, in \u001b[0;36mgaussian_kde.set_bandwidth\u001b[1;34m(self, bw_method)\u001b[0m\n\u001b[0;32m    570\u001b[0m     msg \u001b[38;5;241m=\u001b[39m \u001b[38;5;124m\"\u001b[39m\u001b[38;5;124m`bw_method` should be \u001b[39m\u001b[38;5;124m'\u001b[39m\u001b[38;5;124mscott\u001b[39m\u001b[38;5;124m'\u001b[39m\u001b[38;5;124m, \u001b[39m\u001b[38;5;124m'\u001b[39m\u001b[38;5;124msilverman\u001b[39m\u001b[38;5;124m'\u001b[39m\u001b[38;5;124m, a scalar \u001b[39m\u001b[38;5;124m\"\u001b[39m \\\n\u001b[0;32m    571\u001b[0m           \u001b[38;5;124m\"\u001b[39m\u001b[38;5;124mor a callable.\u001b[39m\u001b[38;5;124m\"\u001b[39m\n\u001b[0;32m    572\u001b[0m     \u001b[38;5;28;01mraise\u001b[39;00m \u001b[38;5;167;01mValueError\u001b[39;00m(msg)\n\u001b[1;32m--> 574\u001b[0m \u001b[38;5;28;43mself\u001b[39;49m\u001b[38;5;241;43m.\u001b[39;49m\u001b[43m_compute_covariance\u001b[49m\u001b[43m(\u001b[49m\u001b[43m)\u001b[49m\n",
      "File \u001b[1;32mc:\\Users\\andre\\AppData\\Local\\Programs\\Python\\Python310\\lib\\site-packages\\scipy\\stats\\_kde.py:586\u001b[0m, in \u001b[0;36mgaussian_kde._compute_covariance\u001b[1;34m(self)\u001b[0m\n\u001b[0;32m    582\u001b[0m \u001b[38;5;28;01mif\u001b[39;00m \u001b[38;5;129;01mnot\u001b[39;00m \u001b[38;5;28mhasattr\u001b[39m(\u001b[38;5;28mself\u001b[39m, \u001b[38;5;124m'\u001b[39m\u001b[38;5;124m_data_cho_cov\u001b[39m\u001b[38;5;124m'\u001b[39m):\n\u001b[0;32m    583\u001b[0m     \u001b[38;5;28mself\u001b[39m\u001b[38;5;241m.\u001b[39m_data_covariance \u001b[38;5;241m=\u001b[39m atleast_2d(cov(\u001b[38;5;28mself\u001b[39m\u001b[38;5;241m.\u001b[39mdataset, rowvar\u001b[38;5;241m=\u001b[39m\u001b[38;5;241m1\u001b[39m,\n\u001b[0;32m    584\u001b[0m                                        bias\u001b[38;5;241m=\u001b[39m\u001b[38;5;28;01mFalse\u001b[39;00m,\n\u001b[0;32m    585\u001b[0m                                        aweights\u001b[38;5;241m=\u001b[39m\u001b[38;5;28mself\u001b[39m\u001b[38;5;241m.\u001b[39mweights))\n\u001b[1;32m--> 586\u001b[0m     \u001b[38;5;28mself\u001b[39m\u001b[38;5;241m.\u001b[39m_data_cho_cov \u001b[38;5;241m=\u001b[39m \u001b[43mlinalg\u001b[49m\u001b[38;5;241;43m.\u001b[39;49m\u001b[43mcholesky\u001b[49m\u001b[43m(\u001b[49m\u001b[38;5;28;43mself\u001b[39;49m\u001b[38;5;241;43m.\u001b[39;49m\u001b[43m_data_covariance\u001b[49m\u001b[43m,\u001b[49m\n\u001b[0;32m    587\u001b[0m \u001b[43m                                         \u001b[49m\u001b[43mlower\u001b[49m\u001b[38;5;241;43m=\u001b[39;49m\u001b[38;5;28;43;01mTrue\u001b[39;49;00m\u001b[43m)\u001b[49m\n\u001b[0;32m    589\u001b[0m \u001b[38;5;28mself\u001b[39m\u001b[38;5;241m.\u001b[39mcovariance \u001b[38;5;241m=\u001b[39m \u001b[38;5;28mself\u001b[39m\u001b[38;5;241m.\u001b[39m_data_covariance \u001b[38;5;241m*\u001b[39m \u001b[38;5;28mself\u001b[39m\u001b[38;5;241m.\u001b[39mfactor\u001b[38;5;241m*\u001b[39m\u001b[38;5;241m*\u001b[39m\u001b[38;5;241m2\u001b[39m\n\u001b[0;32m    590\u001b[0m \u001b[38;5;28mself\u001b[39m\u001b[38;5;241m.\u001b[39mcho_cov \u001b[38;5;241m=\u001b[39m (\u001b[38;5;28mself\u001b[39m\u001b[38;5;241m.\u001b[39m_data_cho_cov \u001b[38;5;241m*\u001b[39m \u001b[38;5;28mself\u001b[39m\u001b[38;5;241m.\u001b[39mfactor)\u001b[38;5;241m.\u001b[39mastype(np\u001b[38;5;241m.\u001b[39mfloat64)\n",
      "File \u001b[1;32mc:\\Users\\andre\\AppData\\Local\\Programs\\Python\\Python310\\lib\\site-packages\\scipy\\linalg\\_decomp_cholesky.py:101\u001b[0m, in \u001b[0;36mcholesky\u001b[1;34m(a, lower, overwrite_a, check_finite)\u001b[0m\n\u001b[0;32m     46\u001b[0m \u001b[38;5;28;01mdef\u001b[39;00m \u001b[38;5;21mcholesky\u001b[39m(a, lower\u001b[38;5;241m=\u001b[39m\u001b[38;5;28;01mFalse\u001b[39;00m, overwrite_a\u001b[38;5;241m=\u001b[39m\u001b[38;5;28;01mFalse\u001b[39;00m, check_finite\u001b[38;5;241m=\u001b[39m\u001b[38;5;28;01mTrue\u001b[39;00m):\n\u001b[0;32m     47\u001b[0m \u001b[38;5;250m    \u001b[39m\u001b[38;5;124;03m\"\"\"\u001b[39;00m\n\u001b[0;32m     48\u001b[0m \u001b[38;5;124;03m    Compute the Cholesky decomposition of a matrix.\u001b[39;00m\n\u001b[0;32m     49\u001b[0m \n\u001b[1;32m   (...)\u001b[0m\n\u001b[0;32m     99\u001b[0m \n\u001b[0;32m    100\u001b[0m \u001b[38;5;124;03m    \"\"\"\u001b[39;00m\n\u001b[1;32m--> 101\u001b[0m     c, lower \u001b[38;5;241m=\u001b[39m \u001b[43m_cholesky\u001b[49m\u001b[43m(\u001b[49m\u001b[43ma\u001b[49m\u001b[43m,\u001b[49m\u001b[43m \u001b[49m\u001b[43mlower\u001b[49m\u001b[38;5;241;43m=\u001b[39;49m\u001b[43mlower\u001b[49m\u001b[43m,\u001b[49m\u001b[43m \u001b[49m\u001b[43moverwrite_a\u001b[49m\u001b[38;5;241;43m=\u001b[39;49m\u001b[43moverwrite_a\u001b[49m\u001b[43m,\u001b[49m\u001b[43m \u001b[49m\u001b[43mclean\u001b[49m\u001b[38;5;241;43m=\u001b[39;49m\u001b[38;5;28;43;01mTrue\u001b[39;49;00m\u001b[43m,\u001b[49m\n\u001b[0;32m    102\u001b[0m \u001b[43m                         \u001b[49m\u001b[43mcheck_finite\u001b[49m\u001b[38;5;241;43m=\u001b[39;49m\u001b[43mcheck_finite\u001b[49m\u001b[43m)\u001b[49m\n\u001b[0;32m    103\u001b[0m     \u001b[38;5;28;01mreturn\u001b[39;00m c\n",
      "File \u001b[1;32mc:\\Users\\andre\\AppData\\Local\\Programs\\Python\\Python310\\lib\\site-packages\\scipy\\linalg\\_decomp_cholesky.py:18\u001b[0m, in \u001b[0;36m_cholesky\u001b[1;34m(a, lower, overwrite_a, clean, check_finite)\u001b[0m\n\u001b[0;32m     14\u001b[0m \u001b[38;5;28;01mdef\u001b[39;00m \u001b[38;5;21m_cholesky\u001b[39m(a, lower\u001b[38;5;241m=\u001b[39m\u001b[38;5;28;01mFalse\u001b[39;00m, overwrite_a\u001b[38;5;241m=\u001b[39m\u001b[38;5;28;01mFalse\u001b[39;00m, clean\u001b[38;5;241m=\u001b[39m\u001b[38;5;28;01mTrue\u001b[39;00m,\n\u001b[0;32m     15\u001b[0m               check_finite\u001b[38;5;241m=\u001b[39m\u001b[38;5;28;01mTrue\u001b[39;00m):\n\u001b[0;32m     16\u001b[0m \u001b[38;5;250m    \u001b[39m\u001b[38;5;124;03m\"\"\"Common code for cholesky() and cho_factor().\"\"\"\u001b[39;00m\n\u001b[1;32m---> 18\u001b[0m     a1 \u001b[38;5;241m=\u001b[39m \u001b[43masarray_chkfinite\u001b[49m\u001b[43m(\u001b[49m\u001b[43ma\u001b[49m\u001b[43m)\u001b[49m \u001b[38;5;28;01mif\u001b[39;00m check_finite \u001b[38;5;28;01melse\u001b[39;00m asarray(a)\n\u001b[0;32m     19\u001b[0m     a1 \u001b[38;5;241m=\u001b[39m atleast_2d(a1)\n\u001b[0;32m     21\u001b[0m     \u001b[38;5;66;03m# Dimension check\u001b[39;00m\n",
      "File \u001b[1;32mc:\\Users\\andre\\AppData\\Local\\Programs\\Python\\Python310\\lib\\site-packages\\numpy\\lib\\function_base.py:630\u001b[0m, in \u001b[0;36masarray_chkfinite\u001b[1;34m(a, dtype, order)\u001b[0m\n\u001b[0;32m    628\u001b[0m a \u001b[38;5;241m=\u001b[39m asarray(a, dtype\u001b[38;5;241m=\u001b[39mdtype, order\u001b[38;5;241m=\u001b[39morder)\n\u001b[0;32m    629\u001b[0m \u001b[38;5;28;01mif\u001b[39;00m a\u001b[38;5;241m.\u001b[39mdtype\u001b[38;5;241m.\u001b[39mchar \u001b[38;5;129;01min\u001b[39;00m typecodes[\u001b[38;5;124m'\u001b[39m\u001b[38;5;124mAllFloat\u001b[39m\u001b[38;5;124m'\u001b[39m] \u001b[38;5;129;01mand\u001b[39;00m \u001b[38;5;129;01mnot\u001b[39;00m np\u001b[38;5;241m.\u001b[39misfinite(a)\u001b[38;5;241m.\u001b[39mall():\n\u001b[1;32m--> 630\u001b[0m     \u001b[38;5;28;01mraise\u001b[39;00m \u001b[38;5;167;01mValueError\u001b[39;00m(\n\u001b[0;32m    631\u001b[0m         \u001b[38;5;124m\"\u001b[39m\u001b[38;5;124marray must not contain infs or NaNs\u001b[39m\u001b[38;5;124m\"\u001b[39m)\n\u001b[0;32m    632\u001b[0m \u001b[38;5;28;01mreturn\u001b[39;00m a\n",
      "\u001b[1;31mValueError\u001b[0m: array must not contain infs or NaNs"
     ]
    }
   ],
   "source": [
    "med_b = see_dbscan(\"medB\")\n",
    "med_b"
   ]
  }
 ],
 "metadata": {
  "kernelspec": {
   "display_name": "Python 3",
   "language": "python",
   "name": "python3"
  },
  "language_info": {
   "codemirror_mode": {
    "name": "ipython",
    "version": 3
   },
   "file_extension": ".py",
   "mimetype": "text/x-python",
   "name": "python",
   "nbconvert_exporter": "python",
   "pygments_lexer": "ipython3",
   "version": "3.10.11"
  }
 },
 "nbformat": 4,
 "nbformat_minor": 2
}
